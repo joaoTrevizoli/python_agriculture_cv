{
 "cells": [
  {
   "cell_type": "markdown",
   "metadata": {
    "collapsed": false,
    "deletable": true,
    "editable": true
   },
   "source": [
    "# Identificação e Mapeamento autônomo de linhas e falhas de Cana de Açúcar\n",
    "\n",
    "Neste trabalho é proposto um algoritmo para a detecção e mapeamento de linhas e falhas na cultura da cana de açúcar. O sistema de visão computacional foi desenhado para utilizar imagens áreas provenientes de sensores acoplados a sistemas embarcados. O algoritmo é constituído de duas etapas, a de pré processamento, em que são eliminados ruídos e evidenciados os objetos de interesse. Na segunda etapa são aplicados os filtros de Canny, para a detecção de bordas e, posteriormente, o algoritmo de Suzuki para a detecção de contornos.\n",
    "\n",
    "\n",
    "## Introdução\n",
    "\n",
    "- O indice de falhas na cultura da cana de açúcar é um importante indicador da qualidade do canavial.\n",
    "- O georeferenciamento das linhas de plantio são impressindíveis para sistemas de agricultura de precisão.\n",
    "\n",
    "## Objetivos\n",
    "    \n",
    "- Identificar falhas.\n",
    "- Georeferênciar linhas da cultura.\n",
    "- Contar touceiras.\n",
    "- Portar software para as arquiteturas ARM, AVR e esp8266\n",
    "- Implementar em sistemas embarcados"
   ]
  },
  {
   "cell_type": "markdown",
   "metadata": {},
   "source": [
    "## Instalação\n",
    "\n",
    "Para utilizar este projeto é necessário fazer o download do mesmo [neste](https://github.com/joaoTrevizoli/python_agriculture_cv) repositório.\n",
    "\n",
    "Para instalar, abra o terminal e digite:\n",
    "\n",
    "```sh\n",
    "$ cd python_agriculture_cv\n",
    "$ pip install -r requirements.txt\n",
    "```\n",
    "\n",
    "Para testar o exemplo e ver se o package está funcionando digite:\n",
    "\n",
    "```sh\n",
    "$ python main.py\n",
    "```\n",
    "\n",
    "Para utilizar o interativo jupyter notebook digite\n",
    "\n",
    "```sh\n",
    "$ jupyter notebook\n",
    "```"
   ]
  },
  {
   "cell_type": "code",
   "execution_count": null,
   "metadata": {
    "collapsed": false
   },
   "outputs": [],
   "source": [
    "%matplotlib inline\n",
    "from sugarcane_line_finder import *\n",
    "from matplotlib import pyplot as plt\n",
    "\n",
    "import os\n",
    "import sys\n",
    "import cv2\n",
    "import re\n",
    "\n",
    "b_path = base_path()\n",
    "images = os.listdir(\"{}/{}\".format(b_path, \"base_images\"))\n",
    "images"
   ]
  },
  {
   "cell_type": "code",
   "execution_count": null,
   "metadata": {
    "collapsed": false,
    "deletable": true,
    "editable": true,
    "scrolled": false
   },
   "outputs": [],
   "source": [
    "allowed_extensions = (\"jpg\", \"JPG\", \"png\", \"img\", \"gif\", \"bmp\")\n",
    "\n",
    "pattern = re.compile(\"(cana)\")\n",
    "\n",
    "image_path = [\"{}/base_images/{}\".format(b_path, i) for i in images if i.split(\".\")[1] in allowed_extensions and pattern.search(i)]\n",
    "image_names = [i for i in images if i.split(\".\")[1] in allowed_extensions and pattern.search(i)]\n",
    "image_names"
   ]
  },
  {
   "cell_type": "code",
   "execution_count": null,
   "metadata": {
    "collapsed": false,
    "deletable": true,
    "editable": true
   },
   "outputs": [],
   "source": [
    "image_path"
   ]
  },
  {
   "cell_type": "code",
   "execution_count": null,
   "metadata": {
    "collapsed": false,
    "deletable": true,
    "editable": true
   },
   "outputs": [],
   "source": [
    "sugarcane_images = []\n",
    "for i in zip(image_path, image_names):\n",
    "        img = cv2.imread(i[0])\n",
    "        image_dict = {\"img\": img,\n",
    "                      \"name\": i[1]}\n",
    "        sugarcane_images.append(image_dict)\n",
    "        plt.figure(figsize=(16, 9))\n",
    "        plt.imshow(img)\n",
    "        plt.show()    "
   ]
  },
  {
   "cell_type": "code",
   "execution_count": null,
   "metadata": {
    "collapsed": false,
    "deletable": true,
    "editable": true
   },
   "outputs": [],
   "source": [
    "for i in sugarcane_images:\n",
    "    print(i[\"img\"].shape)"
   ]
  },
  {
   "cell_type": "code",
   "execution_count": null,
   "metadata": {
    "collapsed": false,
    "deletable": true,
    "editable": true
   },
   "outputs": [],
   "source": [
    "print(\"Vamos processar multiplas imagens através de um gerador\")\n",
    "pre_processors = SugarCanePreProcessing.multiple_processor(sugarcane_images, True)\n",
    "print(\"Generator: \",pre_processors)\n",
    "for i, j in zip(pre_processors, sugarcane_images):\n",
    "    j[\"pre_processor\"] = i\n",
    "    print(\"generated object: \", i)\n"
   ]
  },
  {
   "cell_type": "code",
   "execution_count": null,
   "metadata": {
    "collapsed": false,
    "deletable": true,
    "editable": true
   },
   "outputs": [],
   "source": [
    "sugarcane_images"
   ]
  },
  {
   "cell_type": "code",
   "execution_count": null,
   "metadata": {
    "collapsed": false,
    "deletable": true,
    "editable": true
   },
   "outputs": [],
   "source": [
    "print(\"Segmentar a imagem tentado separar o que é fundo do que é cana de açúcar\")\n",
    "for i in sugarcane_images:\n",
    "    plt.figure(figsize=(36, 18))\n",
    "    i[\"green_filtered\"] = i[\"pre_processor\"].select_rgb_green()\n",
    "    plt.subplot(1, 2, 1)\n",
    "    plt.imshow(i[\"img\"])\n",
    "    plt.subplot(1, 2, 2)\n",
    "    plt.imshow(i[\"green_filtered\"])\n",
    "    plt.show()\n"
   ]
  },
  {
   "cell_type": "code",
   "execution_count": null,
   "metadata": {
    "collapsed": false,
    "deletable": true,
    "editable": true
   },
   "outputs": [],
   "source": [
    "print(\"Erosão seguida de dilatação\")\n",
    "for i in sugarcane_images:\n",
    "    i[\"erode_dilation\"] = i[\"pre_processor\"].morphological_transformation(i[\"green_filtered\"], 1, 1, cv2.erode)\n",
    "    i[\"erode_dilation\"] = i[\"pre_processor\"].morphological_transformation(i[\"erode_dilation\"], 1, 1, cv2.erode)\n",
    "    plt.figure(figsize=(36, 18))\n",
    "    plt.subplot(1, 2, 1)\n",
    "    plt.imshow(i[\"img\"])\n",
    "    plt.subplot(1, 2, 2)\n",
    "    plt.imshow(i[\"erode_dilation\"])\n",
    "    plt.show()"
   ]
  },
  {
   "cell_type": "code",
   "execution_count": null,
   "metadata": {
    "collapsed": false,
    "deletable": true,
    "editable": true
   },
   "outputs": [],
   "source": [
    "print(\"Suavização Gaussiana\")\n",
    "\n",
    "for i in sugarcane_images:\n",
    "    i[\"gauss_smooth\"] = i[\"pre_processor\"].gaussian_smooth(i[\"erode_dilation\"])\n",
    "    plt.figure(figsize=(36, 18))\n",
    "    plt.subplot(1, 2, 1)\n",
    "    plt.imshow(i[\"img\"])\n",
    "    plt.subplot(1, 2, 2)\n",
    "    plt.imshow(i[\"gauss_smooth\"])\n",
    "    plt.show()"
   ]
  },
  {
   "cell_type": "code",
   "execution_count": null,
   "metadata": {
    "collapsed": false,
    "deletable": true,
    "editable": true
   },
   "outputs": [],
   "source": [
    "print(\"Instancias objetos que procuram bordas pelo metodo de canny\")\n"
   ]
  },
  {
   "cell_type": "code",
   "execution_count": null,
   "metadata": {
    "collapsed": false,
    "deletable": true,
    "editable": true
   },
   "outputs": [],
   "source": [
    "for i in sugarcane_images:\n",
    "    i[\"sugarcane_line_finder\"] = SugarCaneLineFinder(i[\"gauss_smooth\"], i[\"name\"], True)\n",
    "    i[\"edges\"] = i[\"sugarcane_line_finder\"].canny()\n",
    "    plt.figure(figsize=(36, 18))\n",
    "    plt.subplot(1, 2, 1)\n",
    "    plt.imshow(i[\"img\"])\n",
    "    plt.subplot(1, 2, 2)\n",
    "    plt.imshow(i[\"edges\"])\n",
    "    plt.show()"
   ]
  },
  {
   "cell_type": "code",
   "execution_count": null,
   "metadata": {
    "collapsed": false,
    "deletable": true,
    "editable": true
   },
   "outputs": [],
   "source": [
    "for i in sugarcane_images:\n",
    "    image = i[\"img\"].copy()\n",
    "    i[\"sugarcane_line_finder\"].get_lines(image)\n",
    "    i[\"countours\"] = image\n",
    "    print(i[\"sugarcane_line_finder\"])\n",
    "    plt.figure(figsize=(16, 9))\n",
    "    plt.imshow(i[\"countours\"])\n",
    "    plt.show()  \n",
    "\n"
   ]
  },
  {
   "cell_type": "markdown",
   "metadata": {},
   "source": [
    "## Conclusão\n",
    "\n",
    "- Foi Possível segmentar a cultura da cana de açúcar.\n",
    "- Os método de  Canny (1986) e Suzuki et al. (1985) foram capazes de identificar as linhas e falhas na cultura.\n",
    "- Foi possível identificar e contar o numero de touceiras de cana.\n",
    "- É necessário dar procedimento nos estudos."
   ]
  },
  {
   "cell_type": "markdown",
   "metadata": {
    "collapsed": true,
    "deletable": true,
    "editable": true
   },
   "source": [
    "## Bibliografia\n",
    "\n",
    "AZEVEDO, E.; CONCI, A. Computação gráfica: teoria e prática. [S.l.]: Elsevier, 2003.<br/>\n",
    "BROSNAN, T.; SUN, D.-W. Improving quality inspection of food products by computer vision—-a review. Journal of food engineering, Elsevier, v. 61, n. 1, p. 3–16, 2004.<br/>\n",
    "BRUCE, J.; BALCH, T.; VELOSO, M. Fast and inexpensive color image segmentation for interactive robots. In: IEEE. Intelligent Robots and Systems, 2000.(IROS 2000). Proceedings. 2000 IEEE/RSJ International Conference on. [S.l.], 2000. v. 3, p. 2061–2066.<br/>\n",
    "CANNY, J. A computational approach to edge detection. IEEE Transactions on pattern analysis and machine intelligence, Ieee, n. 6, p. 679–698, 1986.<br/>\n",
    "DAVIS, G.; CASADY, W. W.; MASSEY, R. E. Precision agriculture: An introduction. Extension publications (MU), University of Missouri Extension, 1998.<br/>\n",
    "GLASBEY, C. A.; HORGAN, G. W. Image analysis for the biological sciences. [S.l.]: Wiley Chichester, 1995. v. 1.<br/>\n",
    "PHADIKAR, S.; SIL, J. Rice disease identification using pattern recognition techniques. In: IEEE. Computer and Information Technology, 2008. ICCIT 2008. 11th International Conference on. [S.l.], 2008. p. 420–423.<br/>\n",
    "SOILLE, P. Morphological image analysis: principles and applications. [S.l.]: Springer Science & Business Media, 2013.<br/>\n",
    "SUZUKI, S. et al. Topological structural analysis of digitized binary images by border following. Computer vision, graphics, and image processing, Elsevier, v. 30, n. 1, p. 32–46, 1985.<br/>\n",
    "YAN’E, Z. et al. Nutrition information extraction of the cucumber leaves in the greenhouse based on computer vision technology [j]. Transactions of The Chinese Society of Agricultural Engineering, v. 8, p. 022, 2005.<br/>\n"
   ]
  },
  {
   "cell_type": "code",
   "execution_count": null,
   "metadata": {
    "collapsed": true
   },
   "outputs": [],
   "source": []
  },
  {
   "cell_type": "code",
   "execution_count": null,
   "metadata": {
    "collapsed": true
   },
   "outputs": [],
   "source": []
  }
 ],
 "metadata": {
  "kernelspec": {
   "display_name": "Python 3",
   "language": "python",
   "name": "python3"
  },
  "language_info": {
   "codemirror_mode": {
    "name": "ipython",
    "version": 3
   },
   "file_extension": ".py",
   "mimetype": "text/x-python",
   "name": "python",
   "nbconvert_exporter": "python",
   "pygments_lexer": "ipython3",
   "version": "3.6.2"
  }
 },
 "nbformat": 4,
 "nbformat_minor": 0
}
